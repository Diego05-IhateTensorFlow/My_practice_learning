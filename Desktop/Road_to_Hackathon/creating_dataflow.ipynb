{
 "cells": [
  {
   "cell_type": "code",
   "execution_count": 1,
   "id": "3bf74d66",
   "metadata": {},
   "outputs": [
    {
     "name": "stderr",
     "output_type": "stream",
     "text": [
      "c:\\Users\\PC\\Desktop\\Road to Hackathon\\env\\Lib\\site-packages\\tqdm\\auto.py:21: TqdmWarning: IProgress not found. Please update jupyter and ipywidgets. See https://ipywidgets.readthedocs.io/en/stable/user_install.html\n",
      "  from .autonotebook import tqdm as notebook_tqdm\n"
     ]
    },
    {
     "name": "stdout",
     "output_type": "stream",
     "text": [
      "Path to dataset files: C:\\Users\\PC\\.cache\\kagglehub\\datasets\\shaunthesheep\\microsoft-catsvsdogs-dataset\\versions\\1\n"
     ]
    }
   ],
   "source": [
    "import kagglehub\n",
    "\n",
    "# Download latest version\n",
    "path = kagglehub.dataset_download(\"shaunthesheep/microsoft-catsvsdogs-dataset\")\n",
    "\n",
    "print(\"Path to dataset files:\", path)"
   ]
  },
  {
   "cell_type": "markdown",
   "id": "7bf0c5b9",
   "metadata": {},
   "source": [
    "**Convirtiendo los datos a un dataset para Deep Learning, usando Tensorflow (pipeline de datos)**"
   ]
  },
  {
   "cell_type": "code",
   "execution_count": 6,
   "id": "68f41ffc",
   "metadata": {},
   "outputs": [
    {
     "name": "stdout",
     "output_type": "stream",
     "text": [
      "Found 25000 files belonging to 2 classes.\n"
     ]
    }
   ],
   "source": [
    "import tensorflow as tf\n",
    "import os\n",
    "from tensorflow.keras.utils import image_dataset_from_directory\n",
    "\n",
    "data_path = r'C:\\Users\\PC\\.cache\\kagglehub\\datasets\\shaunthesheep\\microsoft-catsvsdogs-dataset\\versions\\1\\PetImages'\n",
    "BATCH_SIZE = 64\n",
    "IMG_SIZE = (128, 128)\n",
    "\n",
    "train_ds = image_dataset_from_directory(\n",
    "    data_path,\n",
    "    labels = 'inferred',\n",
    "    label_mode = 'int',\n",
    "    image_size = IMG_SIZE,\n",
    "    batch_size = BATCH_SIZE,\n",
    "    shuffle = True\n",
    ")\n",
    "\n",
    "def preprocess_imagen(imagen, label):\n",
    "    imagen = tf.cast(imagen, tf.float32) / 255.0\n",
    "    return imagen, label\n",
    "\n",
    "train_ds = train_ds.map(preprocess_imagen)\n",
    "train_ds = train_ds.cache().prefetch(buffer_size = tf.data.AUTOTUNE)"
   ]
  },
  {
   "cell_type": "markdown",
   "id": "546a3fce",
   "metadata": {},
   "source": [
    "**Ahora usando NumPy con OpenCV, aunque es un poco menos eficiente**"
   ]
  },
  {
   "cell_type": "code",
   "execution_count": 8,
   "id": "2167e189",
   "metadata": {},
   "outputs": [
    {
     "name": "stdout",
     "output_type": "stream",
     "text": [
      "Shape of dataset: (24997, 128, 128, 3)\n",
      "Shape of labels: (24997,)\n"
     ]
    }
   ],
   "source": [
    "import os\n",
    "import cv2\n",
    "import numpy as np\n",
    "\n",
    "# This is the path to the main directory that contains the subfolders\n",
    "data_path = r'C:\\Users\\PC\\.cache\\kagglehub\\datasets\\shaunthesheep\\microsoft-catsvsdogs-dataset\\versions\\1\\PetImages'\n",
    "\n",
    "imagenes = []\n",
    "etiquetas = []\n",
    "\n",
    "for directory in os.listdir(data_path):\n",
    "    #Aquí verá primero Cat\n",
    "    if os.path.isdir(os.path.join(data_path, directory)): #Si\n",
    "        \n",
    "        #C:\\Users\\PC\\.cache\\kagglehub\\datasets\\shaunthesheep\\microsoft-catsvsdogs-dataset\\versions\\1\\PetImages\\Cat\n",
    "        ruta_clase = os.path.join(data_path, directory)\n",
    "\n",
    "        for file in os.listdir(ruta_clase):\n",
    "            #C:\\Users\\PC\\.cache\\kagglehub\\datasets\\shaunthesheep\\microsoft-catsvsdogs-dataset\\versions\\1\\PetImages\\Cat\\0.jpg\n",
    "            all_path = os.path.join(ruta_clase, file)\n",
    "            \n",
    "            imagen = cv2.imread(all_path)\n",
    "\n",
    "            if imagen is not None:\n",
    "                imagen_redimensionada = cv2.resize(imagen, (128, 128))\n",
    "                \n",
    "                # Normalization\n",
    "                imagen_norm = imagen_redimensionada.astype(np.float32) / 255.0\n",
    "                \n",
    "                imagenes.append(imagen_norm)\n",
    "                etiquetas.append(directory)\n",
    "\n",
    "ds = np.array(imagenes)\n",
    "labels = np.array(etiquetas)\n",
    "\n",
    "# Print the shapes to confirm\n",
    "print(f\"Shape of dataset: {ds.shape}\")\n",
    "print(f\"Shape of labels: {labels.shape}\")\n"
   ]
  },
  {
   "cell_type": "markdown",
   "id": "7f200e5b",
   "metadata": {},
   "source": [
    "**Ahora si podríamos usar ya el método fit y pasarle los datos**"
   ]
  },
  {
   "cell_type": "code",
   "execution_count": null,
   "id": "dba78159",
   "metadata": {},
   "outputs": [],
   "source": [
    "#asdsadsadsadsadsadasdsadasd\n",
    "modelo.fit(train_ds, ...)"
   ]
  }
 ],
 "metadata": {
  "kernelspec": {
   "display_name": "env",
   "language": "python",
   "name": "python3"
  },
  "language_info": {
   "codemirror_mode": {
    "name": "ipython",
    "version": 3
   },
   "file_extension": ".py",
   "mimetype": "text/x-python",
   "name": "python",
   "nbconvert_exporter": "python",
   "pygments_lexer": "ipython3",
   "version": "3.13.6"
  }
 },
 "nbformat": 4,
 "nbformat_minor": 5
}
